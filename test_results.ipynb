{
 "cells": [
  {
   "cell_type": "code",
   "execution_count": null,
   "metadata": {},
   "outputs": [],
   "source": [
    "import numpy as np\n",
    "import torch\n",
    "import torch.nn as nn\n",
    "from torch.utils.data import DataLoader\n",
    "from time import time\n",
    "\n",
    "from dataloader import ImageDataset\n",
    "from model import *\n",
    "\n",
    "np.random.seed(69)\n",
    "torch.manual_seed(69)\n",
    "\n",
    "# device = torch.device('cuda' if torch.cuda.is_available() else 'cpu')\n",
    "device = 'cpu'\n",
    "print(f'Using: {device}')\n",
    "if str(device) == 'cuda': print(torch.cuda.get_device_name()) "
   ]
  },
  {
   "cell_type": "code",
   "execution_count": null,
   "metadata": {},
   "outputs": [],
   "source": [
    "IMAGE_SIZE = 1024\n",
    "model_name = 'SRTransformer6_best_86.pth'\n",
    "\n",
    "test_set = ImageDataset(\"data/test/\", 2, size=IMAGE_SIZE)\n",
    "\n",
    "# batch_size 1 for the proper PSNR calculation\n",
    "test_loader = DataLoader(dataset=test_set, batch_size=1, shuffle=False)\n",
    "\n",
    "# init model\n",
    "model = SRTransformer6()\n",
    "model.to(device)\n",
    "\n",
    "# loss function\n",
    "loss_fn = nn.MSELoss()\n",
    "loss_l1 = nn.L1Loss()\n",
    "\n",
    "checkpoint = torch.load('models/' + model_name, map_location=device)\n",
    "model.load_state_dict(checkpoint['model_state_dict'])\n",
    "model.eval()\n",
    "\n",
    "from utils import count_trainable\n",
    "print('Model parameters:', count_trainable(model))"
   ]
  },
  {
   "cell_type": "code",
   "execution_count": null,
   "metadata": {},
   "outputs": [],
   "source": [
    "from math import log10\n",
    "with torch.no_grad():\n",
    "    t0 = time()\n",
    "    test_loss = 0\n",
    "    test_loss_l1 = 0\n",
    "    psnr = 0\n",
    "    for batch in test_loader:\n",
    "        # load data to the device\n",
    "        x, y = batch[0].to(device), batch[1].to(device)\n",
    "        out = model.forward(x)\n",
    "        loss = loss_fn(out, y)\n",
    "        test_loss += loss.item()\n",
    "        test_loss_l1 += loss_l1(out, y).item()\n",
    "        psnr += 10 * log10(1 / loss.item())\n",
    "    test_loss /= len(test_loader)\n",
    "    test_loss_l1 /= len(test_loader)\n",
    "    psnr /= len(test_loader)\n",
    "    print(f'PSNR: {psnr:.04f} | Loss (L1): {test_loss_l1:.06f} | Loss (L2): {test_loss:.06f} | Test time: {time()-t0:.2f}')"
   ]
  },
  {
   "cell_type": "code",
   "execution_count": null,
   "metadata": {},
   "outputs": [],
   "source": [
    "for batch in test_loader:\n",
    "    # load data to the device\n",
    "    x, y = batch[0].to(device), batch[1].to(device)\n",
    "    out = model.forward(x)\n",
    "    break\n",
    "prediction = torch.permute(torch.squeeze(out), (1, 2, 0)).detach().cpu().numpy()\n",
    "real = torch.permute(torch.squeeze(y), (1, 2, 0)).detach().cpu().numpy()"
   ]
  },
  {
   "cell_type": "code",
   "execution_count": null,
   "metadata": {},
   "outputs": [],
   "source": [
    "import matplotlib.pyplot as plt\n",
    "from matplotlib.patches import Rectangle\n",
    "from utils import save_plot\n",
    "\n",
    "if IMAGE_SIZE > 550:\n",
    "    start1, end1 = 100, 250\n",
    "    start2, end2 = 400, 550\n",
    "else:\n",
    "    start1, end1 = IMAGE_SIZE//2 - 25, IMAGE_SIZE//2 + 25\n",
    "    start2, end2 = IMAGE_SIZE//2 - 25, IMAGE_SIZE//2 + 25\n",
    "\n",
    "fig = plt.figure(figsize=(10,10))\n",
    "\n",
    "plt.subplot(2, 2, 1)\n",
    "plt.imshow(prediction)\n",
    "plt.title('Prediction')\n",
    "plt.axis('off')\n",
    "\n",
    "ax = plt.gca()\n",
    "rect = Rectangle((start2, start1), end2-start2, end1-start1, linewidth=1, edgecolor='r', facecolor='none')\n",
    "ax.add_patch(rect)\n",
    "\n",
    "plt.subplot(2, 2, 2)\n",
    "plt.imshow(real)\n",
    "plt.title('Original')\n",
    "plt.axis('off')\n",
    "\n",
    "ax = plt.gca()\n",
    "rect = Rectangle((start2, start1), end2-start2, end1-start1, linewidth=1, edgecolor='r', facecolor='none')\n",
    "ax.add_patch(rect)\n",
    "\n",
    "plt.subplot(2, 2, 3)\n",
    "plt.imshow(prediction[start1:end1, start2:end2, :])\n",
    "plt.title('Prediction')\n",
    "plt.axis('off')\n",
    "\n",
    "plt.subplot(2, 2, 4)\n",
    "plt.imshow(real[start1:end1, start2:end2, :])\n",
    "plt.title('Original')\n",
    "plt.axis('off')\n",
    "plt.show()\n",
    "\n",
    "plt.show()\n",
    "save_plot(fig, f'prediction_image_{IMAGE_SIZE}')"
   ]
  },
  {
   "cell_type": "code",
   "execution_count": null,
   "metadata": {},
   "outputs": [],
   "source": []
  }
 ],
 "metadata": {
  "kernelspec": {
   "display_name": "Python 3 (ipykernel)",
   "language": "python",
   "name": "python3"
  },
  "language_info": {
   "codemirror_mode": {
    "name": "ipython",
    "version": 3
   },
   "file_extension": ".py",
   "mimetype": "text/x-python",
   "name": "python",
   "nbconvert_exporter": "python",
   "pygments_lexer": "ipython3",
   "version": "3.10.6"
  }
 },
 "nbformat": 4,
 "nbformat_minor": 2
}
